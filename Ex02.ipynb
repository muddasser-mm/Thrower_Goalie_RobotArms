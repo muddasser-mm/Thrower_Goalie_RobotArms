{
 "cells": [
  {
   "cell_type": "markdown",
   "metadata": {},
   "source": [
    "## Using Komo for IK"
   ]
  },
  {
   "cell_type": "code",
   "execution_count": 1,
   "metadata": {},
   "outputs": [],
   "source": [
    "import sys\n",
    "sys.path.append('../../build')\n",
    "import numpy as np\n",
    "import libry as ry"
   ]
  },
  {
   "cell_type": "code",
   "execution_count": 2,
   "metadata": {},
   "outputs": [],
   "source": [
    "# Here we do not need a simulation world\n",
    "# adding a configuration world\n",
    "C = ry.Config()\n",
    "C.addFile(\"../../scenarios/pandasTable.g\")\n",
    "V = ry.ConfigurationViewer()\n",
    "V.setConfiguration(C)"
   ]
  },
  {
   "cell_type": "code",
   "execution_count": 3,
   "metadata": {},
   "outputs": [],
   "source": [
    "# Add a ssbox\n",
    "obj = C.addFrame(\"object\")\n",
    "obj.setPosition([0,0.2,1.5])\n",
    "obj.setQuaternion([1,0.3,.4,0.1])\n",
    "obj.setShape(ry.ST.ssBox, size=[.2, .2, .2, .02])\n",
    "obj.setColor([1,1,0])\n",
    "V.setConfiguration(C)"
   ]
  },
  {
   "cell_type": "code",
   "execution_count": 4,
   "metadata": {},
   "outputs": [],
   "source": [
    "# Set contacts for coliision handling\n",
    "\n",
    "#Contact for table\n",
    "Table = C.frame(\"table\")\n",
    "Table.setContact(1)\n",
    "\n",
    "# Contact for Right gripper and fingers\n",
    "R_gripper = C.frame(\"R_gripper\")\n",
    "R_gripper.setContact(1)\n",
    "R_finger1 = C.frame(\"R_finger1\")\n",
    "R_finger1.setContact(1)\n",
    "R_finger2 = C.frame(\"R_finger2\")\n",
    "R_finger2.setContact(1)\n",
    "\n",
    "\n",
    "# Contact for Left gripper\n",
    "L_gripper = C.frame(\"L_gripper\")\n",
    "L_gripper.setContact(1)\n",
    "\n",
    "# Contact for object\n",
    "obj.setContact(1)"
   ]
  },
  {
   "cell_type": "code",
   "execution_count": 5,
   "metadata": {},
   "outputs": [],
   "source": [
    "# Get initial position\n",
    "[yli,Jli] = C.evalFeature(ry.FS.position, [\"L_gripperCenter\"])\n",
    "[yri,Jri] = C.evalFeature(ry.FS.position, [\"R_gripperCenter\"])"
   ]
  },
  {
   "cell_type": "markdown",
   "metadata": {},
   "source": [
    "**1a**"
   ]
  },
  {
   "cell_type": "code",
   "execution_count": 5,
   "metadata": {},
   "outputs": [],
   "source": [
    "#1a\n",
    "IK = C.komo_IK(False)\n",
    "\n",
    "# addObjective(times, featureSymbol, frameNames, objectiveType, scale, target, order)\n",
    "# To prevent collisions\n",
    "IK.addObjective([], ry.FS.accumulatedCollisions, [], ry.OT.ineq, [1e2])\n",
    "\n",
    "# Position difference between gripper centre is 0\n",
    "IK.addObjective([1], ry.FS.positionDiff, ['R_gripperCenter', 'L_gripperCenter'], ry.OT.sos, [1e2])\n",
    "\n",
    "# Both X axis orthogonal\n",
    "IK.addObjective([1], ry.FS.scalarProductXX, ['R_gripperCenter', 'L_gripperCenter'], ry.OT.sos, [1e2])\n",
    "# IK.addObjective([1.], ry.FS.scalarProductXX, ['R_gripperCenter', 'L_gripperCenter'], ry.OT.eq, [1e2])\n",
    "\n",
    "# Both Z axis are anti parallel, for opposite facing\n",
    "IK.addObjective([1.], ry.FS.scalarProductZZ, ['R_gripperCenter', 'L_gripperCenter'], ry.OT.sos, [1e2], target=[-1.])\n",
    "# IK.addObjective([1.], ry.FS.scalarProductZZ, ['R_gripperCenter', 'L_gripperCenter'], ry.OT.eq, [1e2], target=[-1.])\n"
   ]
  },
  {
   "cell_type": "markdown",
   "metadata": {},
   "source": [
    "**1b**"
   ]
  },
  {
   "cell_type": "code",
   "execution_count": 44,
   "metadata": {},
   "outputs": [],
   "source": [
    "#1b\n",
    "# move object\n",
    "obj.setPosition([0,.2,1.5])\n",
    "\n",
    "IK = C.komo_IK(False)\n",
    "# addObjective(times, featureSymbol, frameNames, objectiveType, scale, target, order)\n",
    "# To prevent collisions\n",
    "IK.addObjective([], ry.FS.accumulatedCollisions, [], ry.OT.ineq, [1e2])\n",
    "\n",
    "# Position difference between gripper centre is 0\n",
    "IK.addObjective([0], ry.FS.positionDiff, ['R_gripperCenter', 'object'], ry.OT.eq, [1e0])\n",
    "\n",
    "# Align with respect to any of the axis (Nearest axis)\n",
    "IK.addObjective([1], ry.FS.scalarProductXX, ['R_gripperCenter', 'object'], ry.OT.eq, [1e2])\n",
    "# IK.addObjective([1.], ry.FS.scalarProductXX, ['R_gripperCenter', 'L_gripperCenter'], ry.OT.eq, [1e2])\n",
    "\n",
    "# Add distance specifically to prevent collisions\n",
    "#IK.addObjective([1], ry.FS.distance, ['R_gripper', 'object'], ry.OT.eq)\n",
    "#IK.addObjective([], ry.FS.distance, ['R_finger1', 'object'], ry.OT.ineq)\n",
    "#IK.addObjective([], ry.FS.distance, ['R_finger2', 'object'], ry.OT.ineq)\n"
   ]
  },
  {
   "cell_type": "code",
   "execution_count": 7,
   "metadata": {},
   "outputs": [
    {
     "data": {
      "text/plain": [
       "[{'x_dim': 16, 'T': 1, 'k_order': 1, 'tau': 1.0, 'useSwift': False},\n",
       " {'order': 1.0,\n",
       "  'type': 'sos',\n",
       "  'feature': 'qItself#32',\n",
       "  'vars': [-1, 0],\n",
       "  'sos_sumOfSqr': 0.057025174823319036},\n",
       " {'order': 0.0,\n",
       "  'type': 'sos',\n",
       "  'feature': 'qItself#32',\n",
       "  'vars': [0],\n",
       "  'sos_sumOfSqr': 0.0005702517482331904},\n",
       " {'order': 0.0,\n",
       "  'type': 'eq',\n",
       "  'feature': 'QuaternionNorms',\n",
       "  'vars': [0],\n",
       "  'eq_sumOfAbs': 0.0},\n",
       " {'order': 0.0,\n",
       "  'type': 'ineq',\n",
       "  'feature': 'ProxyCost',\n",
       "  'vars': [0],\n",
       "  'inEq_sumOfPos': 0.0},\n",
       " {'order': 0.0,\n",
       "  'type': 'sos',\n",
       "  'feature': 'Default-0-posDiff-R_gripperCenter-L_gripperCenter',\n",
       "  'vars': [0],\n",
       "  'sos_sumOfSqr': 6.631589885000414e-06},\n",
       " {'order': 0.0,\n",
       "  'type': 'sos',\n",
       "  'feature': 'Default-0-vecAlign-R_gripperCenter-L_gripperCenter',\n",
       "  'vars': [0],\n",
       "  'sos_sumOfSqr': 3.2860004599875536e-06},\n",
       " {'order': 0.0,\n",
       "  'type': 'sos',\n",
       "  'feature': 'Default-0-vecAlign-R_gripperCenter-L_gripperCenter',\n",
       "  'vars': [0],\n",
       "  'sos_sumOfSqr': 0.00024229362014940452}]"
      ]
     },
     "execution_count": 7,
     "metadata": {},
     "output_type": "execute_result"
    }
   ],
   "source": [
    "# Calling the optimizer (True means random initialization/restart)\n",
    "IK.optimize(True)\n",
    "IK.getReport()"
   ]
  },
  {
   "cell_type": "code",
   "execution_count": 46,
   "metadata": {},
   "outputs": [],
   "source": [
    "C.setFrameState( IK.getConfiguration(0) )\n",
    "V.setConfiguration(C) #to update your model display"
   ]
  },
  {
   "cell_type": "code",
   "execution_count": 43,
   "metadata": {},
   "outputs": [],
   "source": [
    "# Set the arms to random positions\n",
    "IK = C.komo_IK(False)\n",
    "IK.addObjective([], ry.FS.accumulatedCollisions, [], ry.OT.ineq, [1e2])\n",
    "IK.addObjective([1.], ry.FS.position, [\"L_gripperCenter\"], ry.OT.eq, [1e2], target=yli)\n",
    "IK.addObjective([1.], ry.FS.position, [\"R_gripperCenter\"], ry.OT.eq, [1e2], target=yri)\n",
    "\n",
    "# Calling the optimizer (True means random initialization/restart)\n",
    "IK.optimize(True)\n",
    "IK.getReport()\n",
    "\n",
    "C.setFrameState( IK.getConfiguration(0) )\n",
    "V.setConfiguration(C) #to update your model display"
   ]
  },
  {
   "cell_type": "markdown",
   "metadata": {},
   "source": [
    "## Path Optimization"
   ]
  },
  {
   "cell_type": "markdown",
   "metadata": {},
   "source": [
    "**1a**"
   ]
  },
  {
   "cell_type": "code",
   "execution_count": 16,
   "metadata": {},
   "outputs": [
    {
     "data": {
      "text/plain": [
       "[{'x_dim': 320, 'T': 20, 'k_order': 2, 'tau': 0.25, 'useSwift': True},\n",
       " {'order': 0.0,\n",
       "  'type': 'eq',\n",
       "  'feature': 'QuaternionNorms',\n",
       "  'vars': [1, 1, 1, 1, 1, 1, 1, 1, 1, 1, 1, 1, 1, 1, 1, 1, 1, 1, 1, 1],\n",
       "  'eq_sumOfAbs': 0.0},\n",
       " {'order': 2.0,\n",
       "  'type': 'sos',\n",
       "  'feature': 'qItself#32',\n",
       "  'vars': [1, 1, 1, 1, 1, 1, 1, 1, 1, 1, 1, 1, 1, 1, 1, 1, 1, 1, 1, 1],\n",
       "  'sos_sumOfSqr': 0.2002868135156707},\n",
       " {'order': 0.0,\n",
       "  'type': 'sos',\n",
       "  'feature': 'qItself#32',\n",
       "  'vars': [1, 1, 1, 1, 1, 1, 1, 1, 1, 1, 1, 1, 1, 1, 1, 1, 1, 1, 1, 1],\n",
       "  'sos_sumOfSqr': 0.0007528270391629072},\n",
       " {'order': 0.0,\n",
       "  'type': 'ineq',\n",
       "  'feature': 'ProxyCost',\n",
       "  'vars': [1, 1, 1, 1, 1, 1, 1, 1, 1, 1, 1, 1, 1, 1, 1, 1, 1, 1, 1, 1],\n",
       "  'inEq_sumOfPos': 0.024322078898837002},\n",
       " {'order': 0.0,\n",
       "  'type': 'sos',\n",
       "  'feature': 'Default-0-posDiff-R_gripperCenter-L_gripperCenter',\n",
       "  'vars': [0, 0, 0, 0, 0, 0, 0, 0, 0, 0, 0, 0, 0, 0, 0, 0, 0, 0, 0, 1],\n",
       "  'sos_sumOfSqr': 9.346400875162338e-05},\n",
       " {'order': 0.0,\n",
       "  'type': 'sos',\n",
       "  'feature': 'Default-0-vecAlign-R_gripperCenter-L_gripperCenter',\n",
       "  'vars': [0, 0, 0, 0, 0, 0, 0, 0, 0, 0, 0, 0, 0, 0, 0, 0, 0, 0, 0, 1],\n",
       "  'sos_sumOfSqr': 3.08723287806892e-05},\n",
       " {'order': 0.0,\n",
       "  'type': 'sos',\n",
       "  'feature': 'Default-0-vecAlign-R_gripperCenter-L_gripperCenter',\n",
       "  'vars': [0, 0, 0, 0, 0, 0, 0, 0, 0, 0, 0, 0, 0, 0, 0, 0, 0, 0, 0, 1],\n",
       "  'sos_sumOfSqr': 0.0005709691899679571}]"
      ]
     },
     "execution_count": 16,
     "metadata": {},
     "output_type": "execute_result"
    }
   ],
   "source": [
    "# 1a\n",
    "# we want to optimize a single step (1 phase, 1 step/phase, duration=1, k_order=1)\n",
    "komo = C.komo_path(1.,20, 5., True) \n",
    "\n",
    "# addObjective(times, featureSymbol, frameNames, objectiveType, scale, target, order)\n",
    "# To prevent collisions\n",
    "komo.addObjective([], ry.FS.accumulatedCollisions, [], ry.OT.ineq, [1e2])\n",
    "\n",
    "# Position difference between gripper centre is 0\n",
    "komo.addObjective([1], ry.FS.positionDiff, ['R_gripperCenter', 'L_gripperCenter'], ry.OT.sos, [1e2])\n",
    "\n",
    "# Both X axis orthogonal\n",
    "komo.addObjective([1], ry.FS.scalarProductXX, ['R_gripperCenter', 'L_gripperCenter'], ry.OT.sos, [1e2])\n",
    "# IK.addObjective([1.], ry.FS.scalarProductXX, ['R_gripperCenter', 'L_gripperCenter'], ry.OT.eq, [1e2])\n",
    "\n",
    "# Both Z axis are anti parallel, for opposite facing\n",
    "komo.addObjective([1.], ry.FS.scalarProductZZ, ['R_gripperCenter', 'L_gripperCenter'], ry.OT.sos, [1e2], target=[-1.])\n",
    "\n",
    "komo.optimize(True)\n",
    "komo.getReport()"
   ]
  },
  {
   "cell_type": "markdown",
   "metadata": {},
   "source": [
    "**1b**"
   ]
  },
  {
   "cell_type": "code",
   "execution_count": 6,
   "metadata": {},
   "outputs": [
    {
     "data": {
      "text/plain": [
       "[{'x_dim': 320, 'T': 20, 'k_order': 2, 'tau': 0.25, 'useSwift': True},\n",
       " {'order': 0.0,\n",
       "  'type': 'eq',\n",
       "  'feature': 'QuaternionNorms',\n",
       "  'vars': [1, 1, 1, 1, 1, 1, 1, 1, 1, 1, 1, 1, 1, 1, 1, 1, 1, 1, 1, 1],\n",
       "  'eq_sumOfAbs': 0.0},\n",
       " {'order': 2.0,\n",
       "  'type': 'sos',\n",
       "  'feature': 'qItself#32',\n",
       "  'vars': [1, 1, 1, 1, 1, 1, 1, 1, 1, 1, 1, 1, 1, 1, 1, 1, 1, 1, 1, 1],\n",
       "  'sos_sumOfSqr': 148.95370067066978},\n",
       " {'order': 0.0,\n",
       "  'type': 'sos',\n",
       "  'feature': 'qItself#32',\n",
       "  'vars': [1, 1, 1, 1, 1, 1, 1, 1, 1, 1, 1, 1, 1, 1, 1, 1, 1, 1, 1, 1],\n",
       "  'sos_sumOfSqr': 0.006271462709905664},\n",
       " {'order': 0.0,\n",
       "  'type': 'sos',\n",
       "  'feature': 'Default-0-posDiff-R_gripperCenter-object',\n",
       "  'vars': [1, 1, 1, 1, 1, 1, 1, 1, 1, 1, 1, 1, 1, 1, 1, 1, 1, 1, 1, 1],\n",
       "  'sos_sumOfSqr': 46.99744296830443},\n",
       " {'order': 0.0,\n",
       "  'type': 'eq',\n",
       "  'feature': 'Default-0-vecAlign-R_gripperCenter-object',\n",
       "  'vars': [0, 0, 0, 0, 0, 0, 0, 0, 0, 0, 0, 0, 0, 0, 0, 0, 0, 0, 0, 1],\n",
       "  'eq_sumOfAbs': 6.95584998822163e-05}]"
      ]
     },
     "execution_count": 6,
     "metadata": {},
     "output_type": "execute_result"
    }
   ],
   "source": [
    "#1b\n",
    "# move object\n",
    "obj.setPosition([0,.2,1.5])\n",
    "\n",
    "# we want to optimize a single step (1 phase, 1 step/phase, duration=1, k_order=1)\n",
    "komo = C.komo_path(1.,20, 5., True) \n",
    "\n",
    "# addObjective(times, featureSymbol, frameNames, objectiveType, scale, target, order)\n",
    "# To prevent collisions\n",
    "komo.addObjective([], ry.FS.accumulatedCollisions, [], ry.OT.ineq, [1e2])\n",
    "\n",
    "# Position difference between gripper centre is 0\n",
    "komo.addObjective([], ry.FS.positionDiff, ['R_gripperCenter', 'object'], ry.OT.sos, [1e2])\n",
    "\n",
    "# Align with respect to any of the axis (Nearest axis)\n",
    "komo.addObjective([1], ry.FS.scalarProductXX, ['R_gripperCenter', 'object'], ry.OT.eq, [1e2])\n",
    "# komo.addObjective([1.], ry.FS.scalarProductXX, ['R_gripperCenter', 'L_gripperCenter'], ry.OT.eq, [1e2])\n",
    "\n",
    "komo.optimize(True)\n",
    "komo.getReport()"
   ]
  },
  {
   "cell_type": "code",
   "execution_count": 7,
   "metadata": {},
   "outputs": [],
   "source": [
    "V = komo.view()"
   ]
  },
  {
   "cell_type": "code",
   "execution_count": 8,
   "metadata": {},
   "outputs": [],
   "source": [
    "V.playVideo()"
   ]
  },
  {
   "cell_type": "code",
   "execution_count": 9,
   "metadata": {},
   "outputs": [
    {
     "ename": "RuntimeError",
     "evalue": "/home/muddasser/git/dev/robotics-course/rai/rai/Geo/pairCollision.cpp:libccd:259(-2) simplex types 4 4 not handled",
     "output_type": "error",
     "traceback": [
      "\u001b[0;31m---------------------------------------------------------------------------\u001b[0m",
      "\u001b[0;31mRuntimeError\u001b[0m                              Traceback (most recent call last)",
      "\u001b[0;32m<ipython-input-9-21d926856e4c>\u001b[0m in \u001b[0;36m<module>\u001b[0;34m\u001b[0m\n\u001b[1;32m      4\u001b[0m \u001b[0mcoll\u001b[0m \u001b[0;34m=\u001b[0m \u001b[0mC\u001b[0m\u001b[0;34m.\u001b[0m\u001b[0mfeature\u001b[0m\u001b[0;34m(\u001b[0m\u001b[0mry\u001b[0m\u001b[0;34m.\u001b[0m\u001b[0mFS\u001b[0m\u001b[0;34m.\u001b[0m\u001b[0maccumulatedCollisions\u001b[0m\u001b[0;34m,\u001b[0m \u001b[0;34m[\u001b[0m\u001b[0;34m]\u001b[0m\u001b[0;34m)\u001b[0m\u001b[0;34m\u001b[0m\u001b[0;34m\u001b[0m\u001b[0m\n\u001b[1;32m      5\u001b[0m \u001b[0mC\u001b[0m\u001b[0;34m.\u001b[0m\u001b[0mcomputeCollisions\u001b[0m\u001b[0;34m(\u001b[0m\u001b[0;34m)\u001b[0m\u001b[0;34m\u001b[0m\u001b[0;34m\u001b[0m\u001b[0m\n\u001b[0;32m----> 6\u001b[0;31m \u001b[0mcoll\u001b[0m\u001b[0;34m.\u001b[0m\u001b[0meval\u001b[0m\u001b[0;34m(\u001b[0m\u001b[0mC\u001b[0m\u001b[0;34m)\u001b[0m\u001b[0;34m\u001b[0m\u001b[0;34m\u001b[0m\u001b[0m\n\u001b[0m",
      "\u001b[0;31mRuntimeError\u001b[0m: /home/muddasser/git/dev/robotics-course/rai/rai/Geo/pairCollision.cpp:libccd:259(-2) simplex types 4 4 not handled"
     ]
    }
   ],
   "source": [
    "C.setFrameState(komo.getConfiguration(19))\n",
    "C.getJointState()\n",
    "V.setConfiguration(C)\n",
    "coll = C.feature(ry.FS.accumulatedCollisions, [])\n",
    "C.computeCollisions() \n",
    "coll.eval(C)"
   ]
  }
 ],
 "metadata": {
  "kernelspec": {
   "display_name": "Python 3",
   "language": "python",
   "name": "python3"
  },
  "language_info": {
   "codemirror_mode": {
    "name": "ipython",
    "version": 3
   },
   "file_extension": ".py",
   "mimetype": "text/x-python",
   "name": "python",
   "nbconvert_exporter": "python",
   "pygments_lexer": "ipython3",
   "version": "3.6.9"
  }
 },
 "nbformat": 4,
 "nbformat_minor": 4
}
