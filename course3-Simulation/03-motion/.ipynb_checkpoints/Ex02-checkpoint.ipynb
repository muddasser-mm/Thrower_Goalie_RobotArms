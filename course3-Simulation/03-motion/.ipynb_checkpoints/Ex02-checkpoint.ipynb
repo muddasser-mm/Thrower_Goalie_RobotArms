{
 "cells": [
  {
   "cell_type": "markdown",
   "metadata": {},
   "source": [
    "## Using Komo for IK"
   ]
  },
  {
   "cell_type": "code",
   "execution_count": 1,
   "metadata": {},
   "outputs": [],
   "source": [
    "import sys\n",
    "sys.path.append('../../build')\n",
    "import numpy as np\n",
    "import libry as ry\n",
    "import time\n",
    "import math"
   ]
  },
  {
   "cell_type": "code",
   "execution_count": 2,
   "metadata": {},
   "outputs": [],
   "source": [
    "# Here we do not need a simulation world\n",
    "# adding a configuration world\n",
    "C = ry.Config()\n",
    "C.addFile(\"../../scenarios/pandasTable.g\")\n",
    "V = ry.ConfigurationViewer()\n",
    "V.setConfiguration(C)"
   ]
  },
  {
   "cell_type": "code",
   "execution_count": 3,
   "metadata": {},
   "outputs": [],
   "source": [
    "# Add a ssbox\n",
    "obj = C.addFrame(\"object\")\n",
    "obj.setPosition([0,0.2,1.5])\n",
    "obj.setQuaternion([1,0.3,.4,0.1])\n",
    "\n",
    "#Large object\n",
    "obj.setShape(ry.ST.ssBox, size=[.2, .2, .2, .02])\n",
    "\n",
    "#Small object\n",
    "#obj.setShape(ry.ST.ssBox, size=[.06, .06, .06, .02])\n",
    "\n",
    "obj.setColor([1,1,0])\n",
    "V.setConfiguration(C)"
   ]
  },
  {
   "cell_type": "code",
   "execution_count": 4,
   "metadata": {},
   "outputs": [],
   "source": [
    "# Set contacts for coliision handling\n",
    "\n",
    "#Contact for table\n",
    "Table = C.frame(\"table\")\n",
    "Table.setContact(1)\n",
    "\n",
    "# Contact for Right gripper and fingers\n",
    "R_gripper = C.frame(\"R_gripper\")\n",
    "R_gripper.setContact(1)\n",
    "R_gripperCenter = C.frame(\"R_gripperCenter\")\n",
    "R_gripperCenter.setContact(1)\n",
    "R_finger1 = C.frame(\"R_finger1\")\n",
    "R_finger1.setContact(1)\n",
    "R_finger2 = C.frame(\"R_finger2\")\n",
    "R_finger2.setContact(1)\n",
    "\n",
    "\n",
    "# Contact for Left gripper\n",
    "L_gripper = C.frame(\"L_gripper\")\n",
    "L_gripper.setContact(1)\n",
    "L_finger1 = C.frame(\"L_finger1\")\n",
    "L_finger1.setContact(1)\n",
    "L_finger2 = C.frame(\"L_finger2\")\n",
    "L_finger2.setContact(1)\n",
    "\n",
    "\n",
    "# Contact for object\n",
    "obj.setContact(1)"
   ]
  },
  {
   "cell_type": "code",
   "execution_count": 5,
   "metadata": {},
   "outputs": [],
   "source": [
    "# Get initial position\n",
    "[yli,Jli] = C.evalFeature(ry.FS.position, [\"L_gripperCenter\"])\n",
    "[yri,Jri] = C.evalFeature(ry.FS.position, [\"R_gripperCenter\"])"
   ]
  },
  {
   "cell_type": "markdown",
   "metadata": {},
   "source": [
    "**1a**"
   ]
  },
  {
   "cell_type": "code",
   "execution_count": 6,
   "metadata": {},
   "outputs": [],
   "source": [
    "#1a\n",
    "IK = C.komo_IK(False)\n",
    "\n",
    "# addObjective(times, featureSymbol, frameNames, objectiveType, scale, target, order)\n",
    "# To prevent collisions\n",
    "IK.addObjective([], ry.FS.accumulatedCollisions, [], ry.OT.ineq, [1e2])\n",
    "\n",
    "# Position difference between gripper centre is 0\n",
    "IK.addObjective([1], ry.FS.positionDiff, ['R_gripperCenter', 'L_gripperCenter'], ry.OT.sos, [1e2])\n",
    "\n",
    "# Both X axis orthogonal\n",
    "IK.addObjective([1], ry.FS.scalarProductXX, ['R_gripperCenter', 'L_gripperCenter'], ry.OT.sos, [1e2])\n",
    "# IK.addObjective([1.], ry.FS.scalarProductXX, ['R_gripperCenter', 'L_gripperCenter'], ry.OT.eq, [1e2])\n",
    "\n",
    "# Both Z axis are anti parallel, for opposite facing\n",
    "IK.addObjective([1.], ry.FS.scalarProductZZ, ['R_gripperCenter', 'L_gripperCenter'], ry.OT.sos, [1e2], target=[-1.])\n",
    "# IK.addObjective([1.], ry.FS.scalarProductZZ, ['R_gripperCenter', 'L_gripperCenter'], ry.OT.eq, [1e2], target=[-1.])\n"
   ]
  },
  {
   "cell_type": "markdown",
   "metadata": {},
   "source": [
    "**1b**"
   ]
  },
  {
   "cell_type": "code",
   "execution_count": 7,
   "metadata": {},
   "outputs": [],
   "source": [
    "#1b\n",
    "# move object\n",
    "obj.setPosition([0,.2,1.5])\n",
    "\n",
    "IK = C.komo_IK(False)\n",
    "# addObjective(times, featureSymbol, frameNames, objectiveType, scale, target, order)\n",
    "# To prevent collisions\n",
    "IK.addObjective([], ry.FS.accumulatedCollisions, [], ry.OT.ineq, [1e1])\n",
    "\n",
    "# Position difference between gripper centre is 0\n",
    "IK.addObjective([1], ry.FS.positionDiff, ['R_gripperCenter', 'object'], ry.OT.sos, [1e1])\n",
    "\n",
    "# Align with respect to any of the axis (Nearest axis)\n",
    "IK.addObjective([1], ry.FS.scalarProductXX, ['R_gripperCenter', 'object'], ry.OT.eq, [1e1])\n",
    "IK.addObjective([1], ry.FS.scalarProductXY, ['R_gripperCenter', 'object'], ry.OT.eq, [1e1])\n",
    "# IK.addObjective([1.], ry.FS.scalarProductXX, ['R_gripperCenter', 'L_gripperCenter'], ry.OT.eq, [1e2])\n",
    "\n",
    "# Add distance specifically to prevent collisions\n",
    "IK.addObjective([], ry.FS.distance, ['R_gripper', 'object'], ry.OT.ineq, [1e1])\n",
    "IK.addObjective([], ry.FS.distance, ['R_finger1', 'object'], ry.OT.ineq, [1e1])\n",
    "IK.addObjective([], ry.FS.distance, ['R_finger2', 'object'], ry.OT.ineq, [1e1])\n"
   ]
  },
  {
   "cell_type": "code",
   "execution_count": 8,
   "metadata": {},
   "outputs": [
    {
     "ename": "RuntimeError",
     "evalue": "/home/muddasser/git/dev/robotics-course/rai/rai/Geo/pairCollision.cpp:libccd:259(-2) simplex types 4 4 not handled",
     "output_type": "error",
     "traceback": [
      "\u001b[0;31m---------------------------------------------------------------------------\u001b[0m",
      "\u001b[0;31mRuntimeError\u001b[0m                              Traceback (most recent call last)",
      "\u001b[0;32m<ipython-input-8-a5d9dbff4d38>\u001b[0m in \u001b[0;36m<module>\u001b[0;34m\u001b[0m\n\u001b[1;32m      1\u001b[0m \u001b[0;31m# Calling the optimizer (True means random initialization/restart)\u001b[0m\u001b[0;34m\u001b[0m\u001b[0;34m\u001b[0m\u001b[0;34m\u001b[0m\u001b[0m\n\u001b[0;32m----> 2\u001b[0;31m \u001b[0mIK\u001b[0m\u001b[0;34m.\u001b[0m\u001b[0moptimize\u001b[0m\u001b[0;34m(\u001b[0m\u001b[0;32mTrue\u001b[0m\u001b[0;34m)\u001b[0m\u001b[0;34m\u001b[0m\u001b[0;34m\u001b[0m\u001b[0m\n\u001b[0m\u001b[1;32m      3\u001b[0m \u001b[0mIK\u001b[0m\u001b[0;34m.\u001b[0m\u001b[0mgetReport\u001b[0m\u001b[0;34m(\u001b[0m\u001b[0;34m)\u001b[0m\u001b[0;34m\u001b[0m\u001b[0;34m\u001b[0m\u001b[0m\n",
      "\u001b[0;31mRuntimeError\u001b[0m: /home/muddasser/git/dev/robotics-course/rai/rai/Geo/pairCollision.cpp:libccd:259(-2) simplex types 4 4 not handled"
     ]
    }
   ],
   "source": [
    "# Calling the optimizer (True means random initialization/restart)\n",
    "IK.optimize(True)\n",
    "IK.getReport()"
   ]
  },
  {
   "cell_type": "code",
   "execution_count": 8,
   "metadata": {},
   "outputs": [],
   "source": [
    "C.setFrameState( IK.getConfiguration(0) )\n",
    "V.setConfiguration(C) #to update your model display"
   ]
  },
  {
   "cell_type": "code",
   "execution_count": 12,
   "metadata": {},
   "outputs": [],
   "source": [
    "# Random reset of arms\n",
    "\n",
    "# Set the arms to random positions\n",
    "IK = C.komo_IK(False)\n",
    "IK.addObjective([], ry.FS.accumulatedCollisions, [], ry.OT.ineq, [1e4])\n",
    "IK.addObjective([1.], ry.FS.position, [\"L_gripperCenter\"], ry.OT.eq, [1e2], target=yli)\n",
    "IK.addObjective([1.], ry.FS.position, [\"R_gripperCenter\"], ry.OT.eq, [1e2], target=yri)\n",
    "\n",
    "# Calling the optimizer (True means random initialization/restart)\n",
    "IK.optimize(True)\n",
    "IK.getReport()\n",
    "\n",
    "C.setFrameState( IK.getConfiguration(0) )\n",
    "V.setConfiguration(C) #to update your model display"
   ]
  },
  {
   "cell_type": "markdown",
   "metadata": {},
   "source": [
    "## Path Optimization"
   ]
  },
  {
   "cell_type": "markdown",
   "metadata": {},
   "source": [
    "**2a, 2b**"
   ]
  },
  {
   "cell_type": "code",
   "execution_count": 6,
   "metadata": {},
   "outputs": [],
   "source": [
    "# 2a\n",
    "# we want to optimize a single step (1 phase, 1 step/phase, duration=1, k_order=1)\n",
    "komo = C.komo_IK(False) \n",
    "\n",
    "# addObjective(times, featureSymbol, frameNames, objectiveType, scale, target, order)\n",
    "# To prevent collisions\n",
    "komo.addObjective([], ry.FS.accumulatedCollisions, [], ry.OT.ineq, [1e2])\n",
    "\n",
    "# Position difference between gripper centre is 0\n",
    "komo.addObjective([1], ry.FS.positionDiff, ['R_gripperCenter', 'L_gripperCenter'], ry.OT.sos, [1e2])\n",
    "\n",
    "# Both X axis orthogonal\n",
    "komo.addObjective([1], ry.FS.scalarProductXX, ['R_gripperCenter', 'L_gripperCenter'], ry.OT.sos, [1e2])\n",
    "# IK.addObjective([1.], ry.FS.scalarProductXX, ['R_gripperCenter', 'L_gripperCenter'], ry.OT.eq, [1e2])\n",
    "\n",
    "# Both Z axis are anti parallel, for opposite facing\n",
    "komo.addObjective([1.], ry.FS.scalarProductZZ, ['R_gripperCenter', 'L_gripperCenter'], ry.OT.sos, [1e2], target=[-1.])\n",
    "\n",
    "komo.optimize(True)\n",
    "komo.getReport()\n",
    "\n",
    "qT = komo.getConfiguration(0)\n",
    "\n",
    "komo2 = C.komo_IK(False)\n",
    "komo2.addObjective([1.], feature=ry.FS.qItself, type=ry.OT.eq, order=1);\n",
    "komo2.optimize(True)\n",
    "q0 = komo2.getConfiguration(0)\n",
    "\n",
    "for i in range(21):\n",
    "    time.sleep(0.1)\n",
    "    MP = (1 - math.cos(math.pi * i / 20)) / 2\n",
    "    q = q0 + MP * (qT - q0)\n",
    "    C.setFrameState(q)\n",
    "    V.setConfiguration(C)\n"
   ]
  },
  {
   "cell_type": "code",
   "execution_count": 7,
   "metadata": {},
   "outputs": [],
   "source": [
    "# Random reset of arms\n",
    "\n",
    "# Set the arms to random positions\n",
    "IK = C.komo_IK(False)\n",
    "IK.addObjective([], ry.FS.accumulatedCollisions, [], ry.OT.ineq, [1e4])\n",
    "IK.addObjective([1.], ry.FS.position, [\"L_gripperCenter\"], ry.OT.eq, [1e2], target=yli)\n",
    "IK.addObjective([1.], ry.FS.position, [\"R_gripperCenter\"], ry.OT.eq, [1e2], target=yri)\n",
    "\n",
    "# Calling the optimizer (True means random initialization/restart)\n",
    "IK.optimize(True)\n",
    "IK.getReport()\n",
    "\n",
    "C.setFrameState( IK.getConfiguration(0) )\n",
    "V.setConfiguration(C) #to update your model display"
   ]
  },
  {
   "cell_type": "markdown",
   "metadata": {},
   "source": [
    "**2c, 2d**"
   ]
  },
  {
   "cell_type": "code",
   "execution_count": 8,
   "metadata": {},
   "outputs": [
    {
     "data": {
      "text/plain": [
       "[{'x_dim': 320, 'T': 20, 'k_order': 2, 'tau': 0.25, 'useSwift': True},\n",
       " {'order': 0.0,\n",
       "  'type': 'eq',\n",
       "  'feature': 'QuaternionNorms',\n",
       "  'vars': [1, 1, 1, 1, 1, 1, 1, 1, 1, 1, 1, 1, 1, 1, 1, 1, 1, 1, 1, 1],\n",
       "  'eq_sumOfAbs': 0.0},\n",
       " {'order': 2.0,\n",
       "  'type': 'sos',\n",
       "  'feature': 'qItself#32',\n",
       "  'vars': [1, 1, 1, 1, 1, 1, 1, 1, 1, 1, 1, 1, 1, 1, 1, 1, 1, 1, 1, 1],\n",
       "  'sos_sumOfSqr': 0.09469933091948964},\n",
       " {'order': 0.0,\n",
       "  'type': 'sos',\n",
       "  'feature': 'qItself#32',\n",
       "  'vars': [1, 1, 1, 1, 1, 1, 1, 1, 1, 1, 1, 1, 1, 1, 1, 1, 1, 1, 1, 1],\n",
       "  'sos_sumOfSqr': 0.002538166213149473},\n",
       " {'order': 0.0,\n",
       "  'type': 'ineq',\n",
       "  'feature': 'ProxyCost',\n",
       "  'vars': [1, 1, 1, 1, 1, 1, 1, 1, 1, 1, 1, 1, 1, 1, 1, 1, 1, 1, 1, 1],\n",
       "  'inEq_sumOfPos': 3.40950793639716e-05},\n",
       " {'order': 0.0,\n",
       "  'type': 'sos',\n",
       "  'feature': 'Default-0-posDiff-R_gripperCenter-L_gripperCenter',\n",
       "  'vars': [0, 0, 0, 0, 0, 0, 0, 0, 0, 0, 0, 0, 0, 0, 0, 0, 0, 0, 0, 1],\n",
       "  'sos_sumOfSqr': 0.0833662303768149},\n",
       " {'order': 0.0,\n",
       "  'type': 'sos',\n",
       "  'feature': 'Default-0-vecAlign-R_gripperCenter-L_gripperCenter',\n",
       "  'vars': [0, 0, 0, 0, 0, 0, 0, 0, 0, 0, 0, 0, 0, 0, 0, 0, 0, 0, 0, 1],\n",
       "  'sos_sumOfSqr': 0.16346723500315438},\n",
       " {'order': 0.0,\n",
       "  'type': 'sos',\n",
       "  'feature': 'Default-0-vecAlign-R_gripperCenter-L_gripperCenter',\n",
       "  'vars': [0, 0, 0, 0, 0, 0, 0, 0, 0, 0, 0, 0, 0, 0, 0, 0, 0, 0, 0, 1],\n",
       "  'sos_sumOfSqr': 1.7990045653646098},\n",
       " {'order': 1.0,\n",
       "  'type': 'eq',\n",
       "  'feature': 'qItself-ALL',\n",
       "  'vars': [0, 0, 0, 0, 0, 0, 0, 0, 0, 0, 0, 0, 0, 0, 0, 0, 0, 0, 0, 1],\n",
       "  'eq_sumOfAbs': 0.7627654130328642}]"
      ]
     },
     "execution_count": 8,
     "metadata": {},
     "output_type": "execute_result"
    }
   ],
   "source": [
    "#2c, 2d\n",
    "\n",
    "obj2 = C.addFrame(\"object2\")\n",
    "obj2.setPosition([0,-0.5,1.5])\n",
    "obj2.setQuaternion([1,0.3,.4,0.1])\n",
    "obj2.setShape(ry.ST.ssBox, size=[.2, .2, .2, .02])\n",
    "obj2.setColor([1,1,0])\n",
    "obj2.setContact(1)\n",
    "\n",
    "# Disable Contact for Right fingers\n",
    "#R_finger1 = C.frame(\"R_finger1\")\n",
    "#R_finger1.setContact(-1)\n",
    "#R_finger2 = C.frame(\"R_finger2\")\n",
    "#R_finger2.setContact(-1)\n",
    "\n",
    "\n",
    "# Disable Contact for Left fingers\n",
    "#L_finger1 = C.frame(\"L_finger1\")\n",
    "#L_finger1.setContact(-1)\n",
    "#L_finger2 = C.frame(\"L_finger2\")\n",
    "#L_finger2.setContact(-1)\n",
    "\n",
    "V.setConfiguration(C)\n",
    "\n",
    "# we want to optimize a single step (1 phase, 1 step/phase, duration=1, k_order=1)\n",
    "komo = C.komo_path(1.,20, 5., True) \n",
    "\n",
    "# addObjective(times, featureSymbol, frameNames, objectiveType, scale, target, order)\n",
    "# To prevent collisions\n",
    "komo.addObjective([], ry.FS.accumulatedCollisions, [], ry.OT.ineq, [1e4])\n",
    "\n",
    "# Position difference between gripper centre is 0\n",
    "komo.addObjective([1], ry.FS.positionDiff, ['R_gripperCenter', 'L_gripperCenter'], ry.OT.sos, [1e2])\n",
    "\n",
    "# Both X axis orthogonal\n",
    "komo.addObjective([1], ry.FS.scalarProductXX, ['R_gripperCenter', 'L_gripperCenter'], ry.OT.sos, [1e2])\n",
    "# IK.addObjective([1.], ry.FS.scalarProductXX, ['R_gripperCenter', 'L_gripperCenter'], ry.OT.eq, [1e2])\n",
    "\n",
    "# Both Z axis are anti parallel, for opposite facing\n",
    "komo.addObjective([1.], ry.FS.scalarProductZZ, ['R_gripperCenter', 'L_gripperCenter'], ry.OT.sos, [1e2], target=[-1.])\n",
    "\n",
    "komo.addObjective([1.], feature=ry.FS.qItself, type=ry.OT.eq, order=1);\n",
    "\n",
    "komo.optimize(True)\n",
    "komo.getReport()\n",
    "\n"
   ]
  },
  {
   "cell_type": "code",
   "execution_count": 9,
   "metadata": {},
   "outputs": [],
   "source": [
    "V = komo.view()"
   ]
  },
  {
   "cell_type": "code",
   "execution_count": 10,
   "metadata": {},
   "outputs": [],
   "source": [
    "V.playVideo()"
   ]
  },
  {
   "cell_type": "code",
   "execution_count": 28,
   "metadata": {},
   "outputs": [
    {
     "data": {
      "text/plain": [
       "(array([0.00459039]),\n",
       " array([[ 0.01015705,  0.17034145, -0.60569531, -0.3067676 ,  0.03378471,\n",
       "         -0.15655754,  0.12999017,  0.25721585, -0.28304712,  0.71262525,\n",
       "          0.95732886, -0.57240793, -0.07950943, -0.08765932,  0.04517491,\n",
       "          0.        ]]))"
      ]
     },
     "execution_count": 28,
     "metadata": {},
     "output_type": "execute_result"
    }
   ],
   "source": [
    "C.setFrameState(komo.getConfiguration(19))\n",
    "C.getJointState()\n",
    "V.setConfiguration(C)\n",
    "coll = C.feature(ry.FS.accumulatedCollisions, [])\n",
    "C.computeCollisions() \n",
    "coll.eval(C)"
   ]
  },
  {
   "cell_type": "code",
   "execution_count": null,
   "metadata": {},
   "outputs": [],
   "source": []
  }
 ],
 "metadata": {
  "kernelspec": {
   "display_name": "Python 3",
   "language": "python",
   "name": "python3"
  },
  "language_info": {
   "codemirror_mode": {
    "name": "ipython",
    "version": 3
   },
   "file_extension": ".py",
   "mimetype": "text/x-python",
   "name": "python",
   "nbconvert_exporter": "python",
   "pygments_lexer": "ipython3",
   "version": "3.6.9"
  }
 },
 "nbformat": 4,
 "nbformat_minor": 4
}
