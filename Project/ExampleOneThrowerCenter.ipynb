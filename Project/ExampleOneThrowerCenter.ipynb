{
 "cells": [
  {
   "cell_type": "code",
   "execution_count": 1,
   "metadata": {},
   "outputs": [],
   "source": [
    "import sys\n",
    "sys.path.append('../../build')\n",
    "import cv2 as cv\n",
    "import numpy as np\n",
    "import libry as ry\n",
    "import time\n",
    "import math\n",
    "import random\n",
    "# from perception import find_ball\n",
    "#print(cv.__version__)"
   ]
  },
  {
   "cell_type": "code",
   "execution_count": 2,
   "metadata": {},
   "outputs": [],
   "source": [
    "from environment import *\n",
    "env = Environment(ry, math, np, time, random)"
   ]
  },
  {
   "cell_type": "code",
   "execution_count": 3,
   "metadata": {},
   "outputs": [],
   "source": [
    "#Environment initialization\n",
    "env.start()"
   ]
  },
  {
   "cell_type": "code",
   "execution_count": 4,
   "metadata": {},
   "outputs": [],
   "source": [
    "time.sleep(15)"
   ]
  },
  {
   "cell_type": "code",
   "execution_count": null,
   "metadata": {},
   "outputs": [
    {
     "name": "stdout",
     "output_type": "stream",
     "text": [
      "Update thrower position\n",
      "Move thrower to initial position\n",
      "Reset ball position\n",
      "Move above the ball\n",
      "Picking up the ball\n",
      "Grasping the ball\n",
      "Lift the ball\n",
      "Throwing the ball\n",
      "Overriding the move_to and grab objectives...\n",
      "Stopping the ball\n",
      "Resetting to initial pose\n",
      "Done\n"
     ]
    }
   ],
   "source": [
    "# Throw and block\n",
    "env.throw_and_block(options={\n",
    "    \"Thrower1\": {\n",
    "        \"algorithm\": 1,\n",
    "        \"get_thrower_position_using\": \"values\",\n",
    "        \"thrower_position_values\": [2.5, 0],\n",
    "        \"change_thrower_position_smoothly\": True,\n",
    "        \"loop\": False\n",
    "    }\n",
    "})"
   ]
  },
  {
   "cell_type": "code",
   "execution_count": null,
   "metadata": {},
   "outputs": [],
   "source": []
  }
 ],
 "metadata": {
  "kernelspec": {
   "display_name": "Python 3",
   "language": "python",
   "name": "python3"
  },
  "language_info": {
   "codemirror_mode": {
    "name": "ipython",
    "version": 3
   },
   "file_extension": ".py",
   "mimetype": "text/x-python",
   "name": "python",
   "nbconvert_exporter": "python",
   "pygments_lexer": "ipython3",
   "version": "3.6.9"
  }
 },
 "nbformat": 4,
 "nbformat_minor": 2
}
