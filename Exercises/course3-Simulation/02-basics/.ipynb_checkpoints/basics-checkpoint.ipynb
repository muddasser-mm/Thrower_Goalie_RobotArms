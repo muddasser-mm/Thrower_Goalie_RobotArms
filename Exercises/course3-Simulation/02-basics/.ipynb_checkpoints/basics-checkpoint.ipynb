{
 "cells": [
  {
   "cell_type": "markdown",
   "metadata": {},
   "source": [
    "## basic test"
   ]
  },
  {
   "cell_type": "code",
   "execution_count": 1,
   "metadata": {},
   "outputs": [],
   "source": [
    "import sys\n",
    "sys.path.append('../../build')\n",
    "import libry as ry\n",
    "import numpy as np\n",
    "import time"
   ]
  },
  {
   "cell_type": "code",
   "execution_count": 2,
   "metadata": {},
   "outputs": [],
   "source": [
    "#-- REAL WORLD configuration, which is attached to the physics engine\n",
    "# accessing this directly would be cheating!\n",
    "RealWorld = ry.Config()\n",
    "RealWorld.addFile(\"../../scenarios/challenge.g\")"
   ]
  },
  {
   "cell_type": "code",
   "execution_count": 3,
   "metadata": {},
   "outputs": [],
   "source": [
    "S = RealWorld.simulation(ry.SimulatorEngine.physx, True)\n",
    "S.addSensor(\"camera\")"
   ]
  },
  {
   "cell_type": "code",
   "execution_count": 4,
   "metadata": {},
   "outputs": [],
   "source": [
    "#-- MODEL WORLD configuration, this is the data structure on which you represent\n",
    "# what you know about the world and compute things (controls, contacts, etc)\n",
    "C = ry.Config()\n",
    "#D = C.view() #rather use the ConfiguratioViewer below\n",
    "C.addFile(\"../../scenarios/pandasTable.g\")"
   ]
  },
  {
   "cell_type": "code",
   "execution_count": 5,
   "metadata": {},
   "outputs": [],
   "source": [
    "#-- using the viewer, you can view configurations or paths\n",
    "V = ry.ConfigurationViewer()\n",
    "V.setConfiguration(C)"
   ]
  },
  {
   "cell_type": "code",
   "execution_count": 18,
   "metadata": {},
   "outputs": [],
   "source": [
    "#-- the following is the simulation loop\n",
    "tau = .01\n",
    "\n",
    "for t in range(300):\n",
    "    time.sleep(0.01)\n",
    "\n",
    "    #grab sensor readings from the simulation\n",
    "    q = S.get_q()\n",
    "    if t%10 == 0:\n",
    "            [rgb, depth] = S.getImageAndDepth()  #we don't need images with 100Hz, rendering is slow\n",
    "\n",
    "    #some good old fashioned IK\n",
    "    C.setJointState(q) #set your robot model to match the real q\n",
    "    V.setConfiguration(C) #to update your model display\n",
    "    [y,J] = C.evalFeature(ry.FS.position, [\"R_gripper\"])\n",
    "    vel = J.T @ np.linalg.inv(J@J.T + 1e-2*np.eye(y.shape[0])) @ [0.,0.,-1e-1];\n",
    "\n",
    "    #send velocity controls to the simulation\n",
    "    S.step(vel, tau, ry.ControlMode.velocity)"
   ]
  },
  {
   "cell_type": "code",
   "execution_count": 19,
   "metadata": {},
   "outputs": [
    {
     "name": "stdout",
     "output_type": "stream",
     "text": [
      "yti, Jti : \n",
      " [0.  0.  0.6] [[0. 0. 0. 0. 0. 0. 0. 0. 0. 0. 0. 0. 0. 0. 0. 0.]\n",
      " [0. 0. 0. 0. 0. 0. 0. 0. 0. 0. 0. 0. 0. 0. 0. 0.]\n",
      " [0. 0. 0. 0. 0. 0. 0. 0. 0. 0. 0. 0. 0. 0. 0. 0.]] \n",
      "\n"
     ]
    }
   ],
   "source": [
    "\n",
    "[yti,Jti] = C.evalFeature(ry.FS.position, [\"table\"])\n",
    "print(\"yti, Jti : \\n\", yti, Jti, \"\\n\");"
   ]
  },
  {
   "cell_type": "markdown",
   "metadata": {},
   "source": [
    "## doing things relative to an object"
   ]
  },
  {
   "cell_type": "code",
   "execution_count": 20,
   "metadata": {},
   "outputs": [],
   "source": [
    "# add a new frame to the MODEL configuration\n",
    "# (Perception will later have to do exactly this: add perceived objects to the model)\n",
    "obj1 = C.addFrame(\"object1\")\n",
    "obj2 = C.addFrame(\"object2\")\n",
    "obj3 = C.addFrame(\"object3\")"
   ]
  },
  {
   "cell_type": "code",
   "execution_count": 21,
   "metadata": {},
   "outputs": [],
   "source": [
    "# set frame parameters, associate a shape to the frame, \n",
    "obj1.setPosition([.8,0,1.5])\n",
    "obj1.setQuaternion([1,0,.5,0])\n",
    "obj1.setShape(ry.ST.capsule, [.2,.02])\n",
    "obj1.setColor([1,0,1])\n",
    "V.setConfiguration(C)\n",
    "V.recopyMeshes(C) #this is rarely necessary, only when you change meshes within C"
   ]
  },
  {
   "cell_type": "code",
   "execution_count": 23,
   "metadata": {},
   "outputs": [],
   "source": [
    "# Exercise 1a.)\n",
    "# set frame parameters, associate a shape to the frame, \n",
    "obj2.setPosition([0.2,0.1,1])\n",
    "obj2.setQuaternion([1,0,.5,0])\n",
    "#obj2.setShape(ry.ST.capsule, [.4,.04])\n",
    "obj2.setShape(ry.ST.sphere, [.1])\n",
    "obj2.setColor([0,1,0])\n",
    "V.setConfiguration(C)\n",
    "V.recopyMeshes(C) #this is rarely necessary, only when you change meshes within C"
   ]
  },
  {
   "cell_type": "code",
   "execution_count": 24,
   "metadata": {},
   "outputs": [],
   "source": [
    "# Exercise 1a.)\n",
    "\n",
    "# set frame parameters, associate a shape to the frame, \n",
    "obj3.setPosition([0,0.2,1.5])\n",
    "obj3.setQuaternion([1,0.3,.4,0.1])\n",
    "obj3.setShape(ry.ST.ssbox, size=[.8,.1,.1]),\n",
    "obj3.setColor([1,1,0])\n",
    "V.setConfiguration(C)\n",
    "V.recopyMeshes(C) #this is rarely necessary, only when you change meshes within C"
   ]
  },
  {
   "cell_type": "code",
   "execution_count": 36,
   "metadata": {},
   "outputs": [],
   "source": [
    "#-- the following is the simulation loop\n",
    "tau = .01\n",
    "\n",
    "for t in range(300):\n",
    "    time.sleep(0.01)\n",
    "\n",
    "    y = []\n",
    "    J = []\n",
    "    \n",
    "    # Initial position of left hand\n",
    "    [yli,Jli] = C.evalFeature(ry.FS.position, [\"L_gripperCenter\"])\n",
    "        \n",
    "    #grab sensor readings from the simulation\n",
    "    q = S.get_q()\n",
    "    if t%10 == 0:\n",
    "            [rgb, depth] = S.getImageAndDepth()  #we don't need images with 100Hz, rendering is slow\n",
    "\n",
    "    #some good old fashioned IK\n",
    "    C.setJointState(q) #set your robot model to match the real q\n",
    "    V.setConfiguration(C) #to update your model display\n",
    "    \n",
    "    # Move right arm to grab the capsule\n",
    "    [yr,Jr] = C.evalFeature(ry.FS.positionDiff, [\"R_gripperCenter\", \"object1\"])\n",
    "    y = yr\n",
    "    J = Jr\n",
    "    \n",
    "    # Align the centre axis of arm with capsule axis X parallel to Z and Y axis of cylinder\n",
    "    [yazl,Jazl] = C.evalFeature(ry.FS.scalarProductXZ, [\"R_gripperCenter\", \"object1\"])\n",
    "    [yayl,Jayl] = C.evalFeature(ry.FS.scalarProductXY, [\"R_gripperCenter\", \"object1\"])\n",
    "    y = np.concatenate((y, yazl, yayl))\n",
    "    J = np.concatenate((J, Jazl, Jayl))\n",
    "    \n",
    "    # Move right arm to grab the box\n",
    "    [yr,Jr] = C.evalFeature(ry.FS.positionDiff, [\"L_gripperCenter\", \"object2\"])\n",
    "    # Concatenate the position and Jacobian\n",
    "    y = np.concatenate((y, yr))\n",
    "    J = np.concatenate((J, Jr))\n",
    "    \n",
    "    # Rotate \n",
    "    \n",
    "    vel = J.T @ np.linalg.inv(J@J.T + 1e-2*np.eye(y.shape[0])) @ (-y);\n",
    "\n",
    "    #send velocity controls to the simulation\n",
    "    S.step(vel, tau, ry.ControlMode.velocity)"
   ]
  },
  {
   "cell_type": "code",
   "execution_count": 32,
   "metadata": {},
   "outputs": [
    {
     "name": "stdout",
     "output_type": "stream",
     "text": [
      "y :\n",
      " [ 0.00240029  0.00354663  0.00093496  0.0024898   0.03856796 -0.00240091\n",
      " -0.00281723 -0.00111841] \n",
      "J : \n",
      " [[ 0.00000000e+00  0.00000000e+00  0.00000000e+00  0.00000000e+00\n",
      "   0.00000000e+00  0.00000000e+00  0.00000000e+00  0.00000000e+00\n",
      "  -4.03546875e-01  2.15640135e-01  1.61816073e-01 -2.99934604e-01\n",
      "   1.63291096e-01  8.59879943e-02 -1.89930885e-07  0.00000000e+00]\n",
      " [ 0.00000000e+00  0.00000000e+00  0.00000000e+00  0.00000000e+00\n",
      "   0.00000000e+00  0.00000000e+00  0.00000000e+00  0.00000000e+00\n",
      "   4.02400832e-01  4.15287223e-01  1.12200590e-02  2.62433943e-01\n",
      "   1.36258366e-02  1.74933854e-01 -1.08823439e-08  0.00000000e+00]\n",
      " [ 0.00000000e+00  0.00000000e+00  0.00000000e+00  0.00000000e+00\n",
      "   0.00000000e+00  0.00000000e+00  0.00000000e+00  0.00000000e+00\n",
      "  -2.49754199e-07 -5.43582838e-01 -1.48829558e-01  2.82705300e-02\n",
      "  -1.51366523e-01  1.08509164e-01  1.89930885e-07  0.00000000e+00]\n",
      " [ 0.00000000e+00  0.00000000e+00  0.00000000e+00  0.00000000e+00\n",
      "   0.00000000e+00  0.00000000e+00  0.00000000e+00  0.00000000e+00\n",
      "  -3.08543982e-02  4.39955274e-01  7.65174064e-01 -4.44129796e-01\n",
      "   7.69477508e-01 -9.89139103e-02 -8.77424516e-01  0.00000000e+00]\n",
      " [ 0.00000000e+00  0.00000000e+00  0.00000000e+00  0.00000000e+00\n",
      "   0.00000000e+00  0.00000000e+00  0.00000000e+00  0.00000000e+00\n",
      "  -5.97563915e-01  7.10791638e-01 -6.16043085e-01 -2.96126777e-01\n",
      "  -6.09236140e-01  1.80787519e-01 -4.79288740e-01  0.00000000e+00]\n",
      " [-5.97183139e-01  1.00250202e-01 -5.18300650e-01 -1.27923372e-01\n",
      "  -3.62347617e-04 -4.25464774e-02  1.63110155e-07  0.00000000e+00\n",
      "   0.00000000e+00  0.00000000e+00  0.00000000e+00  0.00000000e+00\n",
      "   0.00000000e+00  0.00000000e+00  0.00000000e+00  0.00000000e+00]\n",
      " [ 3.97599621e-01  4.54968808e-01  3.76916093e-01 -1.12214638e-01\n",
      "   2.69264416e-04 -6.90625229e-03 -1.87365079e-07  0.00000000e+00\n",
      "   0.00000000e+00  0.00000000e+00  0.00000000e+00  0.00000000e+00\n",
      "   0.00000000e+00  0.00000000e+00  0.00000000e+00  0.00000000e+00]\n",
      " [-3.69595221e-07 -6.68751303e-01 -4.08088404e-02  5.88501149e-01\n",
      "  -6.20263622e-05  2.18886864e-01 -1.63110155e-07  0.00000000e+00\n",
      "   0.00000000e+00  0.00000000e+00  0.00000000e+00  0.00000000e+00\n",
      "   0.00000000e+00  0.00000000e+00  0.00000000e+00  0.00000000e+00]] \n",
      "\n"
     ]
    }
   ],
   "source": [
    "# View the jacobian and y\n",
    "print(\"y :\\n\", y , \"\\nJ : \\n\", J, \"\\n\");"
   ]
  },
  {
   "cell_type": "markdown",
   "metadata": {},
   "source": [
    "How could you align the gripper for a proper grasp?"
   ]
  },
  {
   "cell_type": "code",
   "execution_count": 10,
   "metadata": {},
   "outputs": [],
   "source": [
    "S=0\n",
    "V=0\n",
    "C=0\n",
    "RealWorld=0"
   ]
  },
  {
   "cell_type": "code",
   "execution_count": 34,
   "metadata": {},
   "outputs": [
    {
     "name": "stdout",
     "output_type": "stream",
     "text": [
      "FrameNames : \n",
      " ['world', 'table', 'L_panda_link0', 'L_panda_link0_1', 'L_panda_link0>panda_joint1', 'L_panda_joint1', 'L_panda_link1_1', 'L_panda_link1>panda_joint2', 'L_panda_joint2', 'L_panda_link2_1', 'L_panda_link2>panda_joint3', 'L_panda_joint3', 'L_panda_link3_1', 'L_panda_link3>panda_joint4', 'L_panda_joint4', 'L_panda_link4_1', 'L_panda_link4>panda_joint5', 'L_panda_joint5', 'L_panda_link5_1', 'L_panda_link5>panda_joint6', 'L_panda_joint6', 'L_panda_link6_1', 'L_panda_link6>panda_joint7', 'L_panda_joint7', 'L_panda_link7_1', 'L_panda_link7>panda_joint8', 'L_panda_joint8', 'L_panda_link8>panda_hand_joint', 'L_frame', 'L_frame', 'L_frame', 'L_frame', 'L_frame', 'L_frame', 'L_frame', 'L_panda_coll7', 'L_gripper', 'L_finger1', 'L_gripper>L_finger1', 'L_finger2', 'L_gripper>L_finger2', 'L_gripperCenter', 'R_panda_link0', 'R_panda_link0_1', 'R_panda_link0>panda_joint1', 'R_panda_joint1', 'R_panda_link1_1', 'R_panda_link1>panda_joint2', 'R_panda_joint2', 'R_panda_link2_1', 'R_panda_link2>panda_joint3', 'R_panda_joint3', 'R_panda_link3_1', 'R_panda_link3>panda_joint4', 'R_panda_joint4', 'R_panda_link4_1', 'R_panda_link4>panda_joint5', 'R_panda_joint5', 'R_panda_link5_1', 'R_panda_link5>panda_joint6', 'R_panda_joint6', 'R_panda_link6_1', 'R_panda_link6>panda_joint7', 'R_panda_joint7', 'R_panda_link7_1', 'R_panda_link7>panda_joint8', 'R_panda_joint8', 'R_panda_link8>panda_hand_joint', 'R_frame', 'R_frame', 'R_frame', 'R_frame', 'R_frame', 'R_frame', 'R_frame', 'R_panda_coll7', 'R_gripper', 'R_finger1', 'R_gripper>R_finger1', 'R_finger2', 'R_gripper>R_finger2', 'R_gripperCenter', 'camera', 'object1', 'object2', 'object3'] \n",
      "\n",
      "JointNames : \n",
      " ['L_panda_joint1', 'L_panda_joint2', 'L_panda_joint3', 'L_panda_joint4', 'L_panda_joint5', 'L_panda_joint6', 'L_panda_joint7', 'L_finger1', 'R_panda_joint1', 'R_panda_joint2', 'R_panda_joint3', 'R_panda_joint4', 'R_panda_joint5', 'R_panda_joint6', 'R_panda_joint7', 'R_finger1'] \n",
      "\n",
      "getJointDimension : \n",
      " 16 \n",
      "\n",
      "getJointState : \n",
      " [-2.16879829e-01  1.57738543e-01 -4.16428608e-01 -1.28628991e+00\n",
      " -7.34889406e-02  2.73406755e+00 -8.62615561e-07  0.00000000e+00\n",
      " -4.78933572e-01  1.05427773e+00 -1.62802383e+00  9.30162279e-03\n",
      " -6.13454835e-01  1.17807876e+00  5.77722608e-01  0.00000000e+00] \n",
      "\n"
     ]
    }
   ],
   "source": [
    "# Frame details print\n",
    "\n",
    "print(\"FrameNames : \\n\", C.getFrameNames(), \"\\n\");\n",
    "print(\"JointNames : \\n\",C.getJointNames(), \"\\n\");\n",
    "print(\"getJointDimension : \\n\",C.getJointDimension(), \"\\n\");\n",
    "print(\"getJointState : \\n\",C.getJointState(), \"\\n\");"
   ]
  }
 ],
 "metadata": {
  "kernelspec": {
   "display_name": "Python 3",
   "language": "python",
   "name": "python3"
  },
  "language_info": {
   "codemirror_mode": {
    "name": "ipython",
    "version": 3
   },
   "file_extension": ".py",
   "mimetype": "text/x-python",
   "name": "python",
   "nbconvert_exporter": "python",
   "pygments_lexer": "ipython3",
   "version": "3.6.9"
  }
 },
 "nbformat": 4,
 "nbformat_minor": 2
}
