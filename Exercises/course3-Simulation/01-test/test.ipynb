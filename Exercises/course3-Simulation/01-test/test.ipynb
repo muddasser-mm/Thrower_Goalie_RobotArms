{
 "cells": [
  {
   "cell_type": "markdown",
   "metadata": {},
   "source": [
    "## push test"
   ]
  },
  {
   "cell_type": "code",
   "execution_count": 1,
   "metadata": {},
   "outputs": [],
   "source": [
    "import sys\n",
    "sys.path.append('../../build')\n",
    "import libry as ry\n",
    "import numpy as np\n",
    "import time"
   ]
  },
  {
   "cell_type": "code",
   "execution_count": 2,
   "metadata": {},
   "outputs": [],
   "source": [
    "C = ry.Config()\n",
    "D = C.view()\n",
    "C.addFile(\"model.g\")\n",
    "Xstart = C.getFrameState()"
   ]
  },
  {
   "cell_type": "code",
   "execution_count": 3,
   "metadata": {},
   "outputs": [],
   "source": [
    "S = C.simulation(ry.SimulatorEngine.physx, True)"
   ]
  },
  {
   "cell_type": "code",
   "execution_count": 6,
   "metadata": {},
   "outputs": [],
   "source": [
    "for k in range (1):\n",
    "    #restart from same state multiple times\n",
    "    S.setState(Xstart)\n",
    "\n",
    "    tau = .01\n",
    "    box = C.frame(\"box\")\n",
    "\n",
    "    for t in range(300):\n",
    "        S.step(np.zeros(8), tau)\n",
    "\n",
    "        if t%10 == 0:\n",
    "            S.getImageAndDepth()  #we don't need images with 100Hz, rendering is slow\n",
    "\n",
    "        time.sleep(0.01)\n",
    "\n",
    "        #some good old fashioned IK\n",
    "        q = C.getJointState();\n",
    "        [y,J] = C.evalFeature(ry.FS.positionDiff, [\"gripper\", \"ring\"])\n",
    "        y = y * .005 / np.linalg.norm(y)\n",
    "        q = q - J.T @ np.linalg.inv(J@J.T + 1e-2*np.eye(y.shape[0])) @ y\n",
    "        C.setJointState(q)\n",
    "\n",
    "        if t%100 == 0:\n",
    "            p = box.getPosition()\n",
    "            p[0] += .05\n",
    "            p[2] += .2\n",
    "            box.setPosition(p)\n",
    "            S.setState(C.getFrameState())"
   ]
  },
  {
   "cell_type": "markdown",
   "metadata": {},
   "source": [
    "## grasp test"
   ]
  },
  {
   "cell_type": "code",
   "execution_count": null,
   "metadata": {},
   "outputs": [],
   "source": [
    "import os\n",
    "os._exit(0)"
   ]
  },
  {
   "cell_type": "code",
   "execution_count": 1,
   "metadata": {},
   "outputs": [],
   "source": [
    "import sys\n",
    "sys.path.append('../../build')\n",
    "import libry as ry\n",
    "import numpy as np\n",
    "import time"
   ]
  },
  {
   "cell_type": "code",
   "execution_count": 2,
   "metadata": {},
   "outputs": [],
   "source": [
    "C = ry.Config()\n",
    "D = C.view()\n",
    "C.addFile(\"model.g\")\n",
    "Xstart = C.getFrameState()\n",
    "C.selectJoints([\"finger1\", \"finger2\"], True)"
   ]
  },
  {
   "cell_type": "code",
   "execution_count": 3,
   "metadata": {},
   "outputs": [],
   "source": [
    "#S = C.simulation(ry.SimulatorEngine.physx, True)\n",
    "S = ry.Simulation(C, ry.SimulatorEngine.physx, True)"
   ]
  },
  {
   "cell_type": "code",
   "execution_count": 4,
   "metadata": {},
   "outputs": [],
   "source": [
    "tau = .01\n",
    "t=0\n",
    "#S.setState(Xstart, [])\n",
    "\n",
    "while True:\n",
    "    t = t+1\n",
    "    \n",
    "    if t%10 == 0:\n",
    "        S.getImageAndDepth()  #we don't need images with 100Hz, rendering is slow\n",
    "\n",
    "    time.sleep(0.01)\n",
    "\n",
    "    q = S.get_q()\n",
    "\n",
    "    #some good old fashioned IK\n",
    "    if t<=300:\n",
    "        #q = C.getJointState()\n",
    "        [y,J] = C.evalFeature(ry.FS.oppose, [\"finger1\", \"finger2\", \"ring4\"])\n",
    "        y = y * min(.008/np.linalg.norm(y), 1.)\n",
    "        q = q - J.T @ np.linalg.inv(J@J.T + 1e-2*np.eye(y.shape[0])) @ y\n",
    "        \n",
    "    if t==300:\n",
    "        S.closeGripper(\"gripper\")\n",
    "        \n",
    "    if S.getGripperIsGrasping(\"gripper\"):\n",
    "        [y,J] = C.evalFeature(ry.FS.position, [\"gripper\"]);\n",
    "        q = q - J.T @ np.linalg.inv(J@J.T + 1e-2*np.eye(y.shape[0])) @ [0.,0.,-2e-4]\n",
    "\n",
    "    if t==900:\n",
    "        S.openGripper(\"gripper\")\n",
    "    \n",
    "    if t>1000 and S.getGripperWidth(\"gripper\")>=.02:\n",
    "        break\n",
    "\n",
    "    S.step(q, tau, ry.ControlMode.position)\n"
   ]
  },
  {
   "cell_type": "code",
   "execution_count": 5,
   "metadata": {},
   "outputs": [],
   "source": [
    "S=0\n",
    "D=0\n",
    "C=0"
   ]
  },
  {
   "cell_type": "code",
   "execution_count": null,
   "metadata": {},
   "outputs": [],
   "source": []
  }
 ],
 "metadata": {
  "kernelspec": {
   "display_name": "Python 3",
   "language": "python",
   "name": "python3"
  },
  "language_info": {
   "codemirror_mode": {
    "name": "ipython",
    "version": 3
   },
   "file_extension": ".py",
   "mimetype": "text/x-python",
   "name": "python",
   "nbconvert_exporter": "python",
   "pygments_lexer": "ipython3",
   "version": "3.6.9"
  }
 },
 "nbformat": 4,
 "nbformat_minor": 2
}
